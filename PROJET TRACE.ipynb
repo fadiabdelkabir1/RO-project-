{
 "cells": [
  {
   "cell_type": "markdown",
   "metadata": {},
   "source": [
    "# CREATING GRAPH WITH NETWORKX"
   ]
  },
  {
   "cell_type": "code",
   "execution_count": 1,
   "metadata": {},
   "outputs": [],
   "source": [
    "import networkx as nx\n",
    "import pandas as pd \n",
    "import matplotlib.pyplot as plt "
   ]
  },
  {
   "cell_type": "code",
   "execution_count": null,
   "metadata": {},
   "outputs": [],
   "source": [
    "%matplotlib qt"
   ]
  },
  {
   "cell_type": "code",
   "execution_count": 5,
   "metadata": {},
   "outputs": [],
   "source": [
    "data = pd.read_excel(r'C:\\Users\\asus\\Desktop\\projet RO\\points.xlsx')"
   ]
  },
  {
   "cell_type": "code",
   "execution_count": 4,
   "metadata": {},
   "outputs": [],
   "source": [
    "m=data.drop(columns=\"x\").values"
   ]
  },
  {
   "cell_type": "code",
   "execution_count": null,
   "metadata": {},
   "outputs": [],
   "source": [
    "g = nx.from_numpy_matrix(m)"
   ]
  },
  {
   "cell_type": "code",
   "execution_count": null,
   "metadata": {},
   "outputs": [],
   "source": [
    "nx.draw(g);"
   ]
  },
  {
   "cell_type": "code",
   "execution_count": null,
   "metadata": {},
   "outputs": [],
   "source": [
    "nx.draw_networkx(g);"
   ]
  },
  {
   "cell_type": "code",
   "execution_count": null,
   "metadata": {},
   "outputs": [],
   "source": [
    "nx.draw_networkx(G, with_label = True)"
   ]
  },
  {
   "cell_type": "code",
   "execution_count": null,
   "metadata": {},
   "outputs": [],
   "source": [
    "nx.draw_circular(g);"
   ]
  },
  {
   "cell_type": "markdown",
   "metadata": {},
   "source": [
    "# CREATING GRAPH WITH GEPHI"
   ]
  },
  {
   "cell_type": "markdown",
   "metadata": {},
   "source": [
    "### ** You can inmport the file ' GRAPH_WORK.CSV' into gephi to see the graph then apply FRUTCHERMAN REINGOLD  spatialisation for better visualisation ** "
   ]
  },
  {
   "cell_type": "markdown",
   "metadata": {},
   "source": [
    "# GENERATING MAP AND PLACEMARKERS USING FOLIUM"
   ]
  },
  {
   "cell_type": "code",
   "execution_count": null,
   "metadata": {},
   "outputs": [],
   "source": [
    "import folium"
   ]
  },
  {
   "cell_type": "code",
   "execution_count": null,
   "metadata": {},
   "outputs": [],
   "source": [
    "m = folium.Map(location=[33.8439408, 9.400138],tiles='stamen terrain ')"
   ]
  },
  {
   "cell_type": "code",
   "execution_count": null,
   "metadata": {},
   "outputs": [],
   "source": [
    "folium.Marker( location = [36.8558694,10.3151931] , popup = \"Roman Amphitheatre\" , tooltip = \"click here for info\" ).add_to(m)\n",
    "folium.Marker( location = [36.8654349,10.3297122] , popup = \"North Africa American Cemetery and Memorial\" , tooltip = \"click here for info\" ).add_to(m)\n",
    "folium.Marker( location = [36.1338883,10.3742362] , popup = \"ENFIDAVILLE WAR CEMETERY\" , tooltip = \"click here for info\" ).add_to(m)\n",
    "folium.Marker( location = [36.42329105,9.21870005] , popup = \"Dougga\" , tooltip = \"click here for info\" ).add_to(m)\n",
    "folium.Marker( location = [36.9604541,11.0799265] , popup = \"Kerkouane\" , tooltip = \"click here for info\" ).add_to(m)\n",
    "folium.Marker( location = [36.5596925,8.7541243] , popup = \"Bulla Regia - Site Archéologique\" , tooltip = \"click here for info\" ).add_to(m)\n",
    "folium.Marker( location = [36.489542,8.5769602] , popup = \"Chemtou\" , tooltip = \"click here for info\" ).add_to(m)\n",
    "folium.Marker( location = [35.29519525,10.7063484] , popup = \"El Jem\" , tooltip = \"click here for info\" ).add_to(m)\n",
    "folium.Marker( location = [35.17026285,8.82476795] , popup = \"Kasserine ruin\" , tooltip = \"click here for info\" ).add_to(m)\n",
    "folium.Marker( location = [35.56696765,8.4438944] , popup = \"Haydrah\" , tooltip = \"click here for info\" ).add_to(m)\n",
    "folium.Marker( location = [35.2315127,9.12433965] , popup = \"Subaytilah\" , tooltip = \"click here for info\" ).add_to(m)\n",
    "folium.Marker( location = [33.5398386,10.67358255] , popup = \"gigthis\" , tooltip = \"click here for info\" ).add_to(m)\n",
    "folium.Marker( location = [36.859336,10.3187431] , popup = \"Cisterns of La Malga\" , tooltip = \"click here for info\" ).add_to(m)\n",
    "folium.Marker( location = [36.8524951,10.3227768] , popup = \"Byrsa Hill\" , tooltip = \"click here for info\" ).add_to(m)\n",
    "folium.Marker( location = [36.8532268,10.3243991] , popup = \"Carthage Museum\" , tooltip = \"click here for info\" ).add_to(m)\n",
    "folium.Marker( location = [36.8512445,10.3313709] , popup = \"Quartier Magon\" , tooltip = \"click here for info\" ).add_to(m)\n",
    "folium.Marker( location = [36.8589587,10.3306693] , popup = \"Odeon Theater\" , tooltip = \"click here for info\" ).add_to(m)\n",
    "folium.Marker( location = [36.8542306,10.3349601] , popup = \"Antonine Baths\" , tooltip = \"click here for info\" ).add_to(m)\n",
    "folium.Marker( location = [36.8578685,10.3317216] , popup = \"Kobba Bent el Rey\" , tooltip = \"click here for info\" ).add_to(m)\n",
    "folium.Marker( location = [336.845036,10.3254533] , popup = \"Les Ports Puniques de Carthage\" , tooltip = \"click here for info\" ).add_to(m)\n",
    "folium.Marker( location = [36.8412563,10.3228645] , popup = \"Salammbo Tophet\" , tooltip = \"click here for info\" ).add_to(m)\n",
    "folium.Marker( location = [36.7985292,10.16922265] , popup = \"Medina of Tunis\" , tooltip = \"click here for info\" ).add_to(m)\n",
    "folium.Marker( location = [36.8094589,10.1340362] , popup = \"Bardo National Museum\" , tooltip = \"click here for info\" ).add_to(m)\n",
    "folium.Marker( location = [36.8614744,10.3309952] , popup = \"Basilica Fausti\" , tooltip = \"click here for info\" ).add_to(m)\n",
    "folium.Marker( location = [36.6382335,10.1295877] , popup = \"Zaghouan Aqueduct\" , tooltip = \"click here for info\" ).add_to(m)\n",
    "folium.Marker( location = [37.01646735,9.94475065] , popup = \"Utica\" , tooltip = \"click here for info\" ).add_to(m)\n",
    "folium.Marker( location = [36.532864,10.4567689] , popup = \"Tubernuc\" , tooltip = \"click here for info\" ).add_to(m)"
   ]
  },
  {
   "cell_type": "code",
   "execution_count": null,
   "metadata": {},
   "outputs": [],
   "source": [
    "m"
   ]
  },
  {
   "cell_type": "markdown",
   "metadata": {},
   "source": [
    "# DATA MANIPULATION + HAMILTONIAN CODE + PREPARATION"
   ]
  },
  {
   "cell_type": "code",
   "execution_count": null,
   "metadata": {},
   "outputs": [],
   "source": [
    "df0 = pd.read_excel(\"points1 (1).xlsx\")"
   ]
  },
  {
   "cell_type": "code",
   "execution_count": null,
   "metadata": {},
   "outputs": [],
   "source": [
    "type(df0)"
   ]
  },
  {
   "cell_type": "code",
   "execution_count": null,
   "metadata": {},
   "outputs": [],
   "source": [
    "df0.info();"
   ]
  },
  {
   "cell_type": "code",
   "execution_count": null,
   "metadata": {},
   "outputs": [],
   "source": [
    "df0.columns"
   ]
  },
  {
   "cell_type": "code",
   "execution_count": null,
   "metadata": {},
   "outputs": [],
   "source": [
    "df0.index"
   ]
  },
  {
   "cell_type": "code",
   "execution_count": null,
   "metadata": {},
   "outputs": [],
   "source": [
    "df1 = df0.iloc[:, 1:]"
   ]
  },
  {
   "cell_type": "code",
   "execution_count": null,
   "metadata": {},
   "outputs": [],
   "source": [
    "df1.columns"
   ]
  },
  {
   "cell_type": "code",
   "execution_count": null,
   "metadata": {},
   "outputs": [],
   "source": [
    "colonnes = ['Basilica_Fausti', 'Bulla_Regia_-_Site_Archéologique', 'Kerkouane',\n",
    "       'El_Jem', 'Subaytilah', 'Dougga', 'Utica', 'gigthis', 'Tubernuc',\n",
    "       'Chemtou', 'Cisterns_of_La_Malga', 'Quartier_Magon', 'Salammbo_Tophet',\n",
    "       'Byrsa_Hill', 'Zaghouan_Aqueduct', 'Carthage_Museum',\n",
    "       'Les_Ports_Puniques_de_Carthage', 'Roman_Amphitheatre', 'Odeon_Theater',\n",
    "       'Antonine_Baths', 'Kobba_Bent_el_Rey', 'Medina_of_Tunis',\n",
    "       'Kasserine_ruin', 'ENFIDAVILLE_WAR_CEMETERY',\n",
    "       'North_Africa_American_Cemetery_and_Memorial', 'Haydrah',\n",
    "       'Bardo_National_Museum']"
   ]
  },
  {
   "cell_type": "code",
   "execution_count": null,
   "metadata": {},
   "outputs": [],
   "source": [
    "df2 = pd.DataFrame( index = df1.columns, columns= df1.columns, data = df1.values   )\n",
    "\n",
    "df2 = pd.DataFrame( index = colonnes, columns= colonnes, data = df1.values   )"
   ]
  },
  {
   "cell_type": "code",
   "execution_count": null,
   "metadata": {},
   "outputs": [],
   "source": [
    "G = nx.from_pandas_adjacency(df2)"
   ]
  },
  {
   "cell_type": "code",
   "execution_count": null,
   "metadata": {},
   "outputs": [],
   "source": [
    "G.nodes();"
   ]
  },
  {
   "cell_type": "code",
   "execution_count": null,
   "metadata": {},
   "outputs": [],
   "source": [
    "for element in G.nodes():\n",
    "    print(element);"
   ]
  },
  {
   "cell_type": "code",
   "execution_count": null,
   "metadata": {},
   "outputs": [],
   "source": [
    "G.edges();"
   ]
  },
  {
   "cell_type": "code",
   "execution_count": null,
   "metadata": {},
   "outputs": [],
   "source": [
    "for element in G.edges():\n",
    "    print(element)"
   ]
  },
  {
   "cell_type": "code",
   "execution_count": null,
   "metadata": {},
   "outputs": [],
   "source": [
    "nx.write_gml(G,\"test.gml\")"
   ]
  },
  {
   "cell_type": "code",
   "execution_count": null,
   "metadata": {},
   "outputs": [],
   "source": [
    "structure = G.degree()"
   ]
  },
  {
   "cell_type": "code",
   "execution_count": null,
   "metadata": {},
   "outputs": [],
   "source": [
    "structure = dict(structure)"
   ]
  },
  {
   "cell_type": "code",
   "execution_count": null,
   "metadata": {},
   "outputs": [],
   "source": [
    "structure.values()"
   ]
  },
  {
   "cell_type": "code",
   "execution_count": null,
   "metadata": {},
   "outputs": [],
   "source": [
    "plt.hist(structure.values());"
   ]
  },
  {
   "cell_type": "code",
   "execution_count": null,
   "metadata": {},
   "outputs": [],
   "source": [
    "nx.is_eulerian(G)"
   ]
  },
  {
   "cell_type": "code",
   "execution_count": null,
   "metadata": {},
   "outputs": [],
   "source": [
    "G.is_directed()"
   ]
  },
  {
   "cell_type": "code",
   "execution_count": null,
   "metadata": {},
   "outputs": [],
   "source": [
    "nx.is_weighted(G)"
   ]
  },
  {
   "cell_type": "code",
   "execution_count": null,
   "metadata": {},
   "outputs": [],
   "source": [
    "GG = G.to_directed()"
   ]
  },
  {
   "cell_type": "code",
   "execution_count": null,
   "metadata": {},
   "outputs": [],
   "source": [
    "G.is_directed()"
   ]
  },
  {
   "cell_type": "code",
   "execution_count": null,
   "metadata": {},
   "outputs": [],
   "source": [
    "GG.is_directed()"
   ]
  },
  {
   "cell_type": "code",
   "execution_count": null,
   "metadata": {},
   "outputs": [],
   "source": [
    "nx.draw(GG);"
   ]
  },
  {
   "cell_type": "code",
   "execution_count": null,
   "metadata": {},
   "outputs": [],
   "source": [
    "nx.algorithms.tournament.hamiltonian_path(GG)"
   ]
  },
  {
   "cell_type": "markdown",
   "metadata": {},
   "source": [
    "#### the hamiltonoan path worked with ready made commands but it is not very optimised \n",
    "#### so we will look for writen algorithms so we can mix it with A*(star) "
   ]
  },
  {
   "cell_type": "markdown",
   "metadata": {},
   "source": [
    "# -------------------------------------------------------------------------\n"
   ]
  },
  {
   "cell_type": "markdown",
   "metadata": {},
   "source": [
    "### On sort de networkx\n",
    "# -------------------------------------------------------------------------"
   ]
  },
  {
   "cell_type": "markdown",
   "metadata": {},
   "source": [
    "# !!!! WARNING !!!! : if your PC is not very strong, it will CRASH /\n",
    "# in case of curiosity you ran it just INTERRUPT KERNEL THEN RUN KERNEL AND CLEAR ALL OUTPUTS"
   ]
  },
  {
   "cell_type": "code",
   "execution_count": null,
   "metadata": {},
   "outputs": [],
   "source": [
    "dictionnaire = {}\n",
    "for line in nx.generate_adjlist(G):\n",
    "    print(line)\n",
    "    line = line.split()\n",
    "    dictionnaire[line[0]] = line[1:]\n",
    "print(dictionnaire)"
   ]
  },
  {
   "cell_type": "code",
   "execution_count": null,
   "metadata": {},
   "outputs": [],
   "source": [
    "dictionnaire"
   ]
  },
  {
   "cell_type": "code",
   "execution_count": null,
   "metadata": {},
   "outputs": [],
   "source": [
    "def hamilton(G, size, pt, path=[]):\n",
    "    print('hamilton called with pt={}, path={}'.format(pt, path))\n",
    "    if pt not in set(path):\n",
    "        path.append(pt)\n",
    "        if len(path)==size:\n",
    "            return path\n",
    "        for pt_next in G.get(pt, []):\n",
    "            res_path = [i for i in path]\n",
    "            candidate = hamilton(G, size, pt_next, res_path)\n",
    "            if candidate is not None:  # skip loop or dead end\n",
    "                return candidate\n",
    "        print('path {} is a dead end'.format(path))\n",
    "    else:\n",
    "        print('pt {} already in path {}'.format(pt, path))\n",
    "    # loop or dead end, None is implicitly returned"
   ]
  },
  {
   "cell_type": "code",
   "execution_count": null,
   "metadata": {},
   "outputs": [],
   "source": [
    "hamilton(dictionnaire,\"Utica\",\"gigthis\")"
   ]
  },
  {
   "cell_type": "markdown",
   "metadata": {},
   "source": [
    "## => this code wasn't very effective it will crash the users pc if it's not very strong plus it kept turning with useless results with a message of '' dead end ''"
   ]
  },
  {
   "cell_type": "markdown",
   "metadata": {},
   "source": [
    "# -----------------------------------------------------------------\n",
    "# trying different code "
   ]
  },
  {
   "cell_type": "code",
   "execution_count": null,
   "metadata": {},
   "outputs": [],
   "source": [
    "class Graph():\n",
    "    def __init__(self, vertices):\n",
    "        self.graph = [[0 for column in range(vertices)]\n",
    "                            for row in range(vertices)]\n",
    "        self.V = vertices\n",
    " \n",
    "    ''' Check if this vertex is an adjacent vertex  \n",
    "        of the previously added vertex and is not  \n",
    "        included in the path earlier '''\n",
    "    def isSafe(self, v, pos, path):\n",
    "        # Check if current vertex and last vertex  \n",
    "        # in path are adjacent\n",
    "        if self.graph[ path[pos-1] ][v] == 0:\n",
    "            return False\n",
    " \n",
    "        # Check if current vertex not already in path\n",
    "        for vertex in path:\n",
    "            if vertex == v:\n",
    "                return False\n",
    " \n",
    "        return True\n",
    "# A recursive utility function to solve  \n",
    "    # hamiltonian cycle problem\n",
    "    def hamCycleUtil(self, path, pos):\n",
    " \n",
    "        # base case: if all vertices are  \n",
    "        # included in the path\n",
    "        if pos == self.V:\n",
    "            # Last vertex must be adjacent to the  \n",
    "            # first vertex in path to make a cyle\n",
    "            if self.graph[ path[pos-1] ][ path[0] ] == 1:\n",
    "                return True\n",
    "            else:\n",
    "                return False\n",
    " # Try different vertices as a next candidate  \n",
    "        # in Hamiltonian Cycle. We don't try for 0 as  \n",
    "        # we included 0 as starting point in hamCycle()\n",
    "        for v in range(1,self.V):\n",
    " \n",
    "            if self.isSafe(v, pos, path) == True:\n",
    " \n",
    "                path[pos] = v\n",
    " \n",
    "                if self.hamCycleUtil(path, pos+1) == True:\n",
    "                    return True\n",
    " \n",
    "                # Remove current vertex if it doesn't  \n",
    "                # lead to a solution\n",
    "                path[pos] = -1\n",
    " \n",
    "        return False\n",
    "    def hamCycle(self):\n",
    "        path = [-1] * self.V\n",
    " \n",
    "        ''' Let us put vertex 0 as the first vertex  \n",
    "            in the path. If there is a Hamiltonian Cycle,  \n",
    "            then the path can be started from any point\n",
    "            of the cycle as the graph is undirected '''\n",
    "        path[0] = 0\n",
    " \n",
    "        if self.hamCycleUtil(path,1) == False:\n",
    "            print (\"Solution does not exist\\n\")\n",
    "            return False\n",
    " \n",
    "        self.printSolution(path)\n",
    "        return True\n",
    "    def printSolution(self, path):\n",
    "        print (\"Solution Exists: Following is one Hamiltonian Cycle\")\n",
    "        for vertex in path:\n",
    "            print (vertex)\n",
    "    nx.write_adjlist(G,\"test.adjlist\")\n",
    "    dictionnaire = {}\n",
    "    for line in nx.generate_adjlist(G):\n",
    "        print(line)\n",
    "        line = line.split()\n",
    "        dictionnaire[line[0]] = line[1:]\n",
    "        print(dictionnaire)\n",
    "\n",
    "    def hamilton(G, size, pt, path=[]):\n",
    "        print('hamilton called with pt={}, path={}'.format(pt, path))\n",
    "        if pt not in set(path):\n",
    "            path.append(pt)\n",
    "            if len(path)==size:\n",
    "                return path\n",
    "            for pt_next in G.get(pt, []):\n",
    "                res_path = [i for i in path]\n",
    "                candidate = hamilton(G, size, pt_next, res_path)\n",
    "                if candidate is not None:  # skip loop or dead end\n",
    "                    return candidate\n",
    "            print('path {} is a dead end'.format(path))\n",
    "        else:\n",
    "            print('pt {} already in path {}'.format(pt, path))\n",
    "    # loop or dead end, None is implicitly returned"
   ]
  },
  {
   "cell_type": "code",
   "execution_count": null,
   "metadata": {},
   "outputs": [],
   "source": [
    "G1=Graph(27)"
   ]
  },
  {
   "cell_type": "code",
   "execution_count": null,
   "metadata": {},
   "outputs": [],
   "source": [
    "G1.graph=df0.values "
   ]
  },
  {
   "cell_type": "code",
   "execution_count": null,
   "metadata": {},
   "outputs": [],
   "source": [
    "G1.hamCycle()"
   ]
  },
  {
   "cell_type": "markdown",
   "metadata": {},
   "source": [
    "## the same problem with this code it kept runing for hours because our graph has 729 edge \n",
    "## means it has around 1,4394420308285202093648749753412e+1772‬ possible path !!"
   ]
  },
  {
   "cell_type": "markdown",
   "metadata": {},
   "source": [
    "# --------------------------------------------------------------\n",
    "\n",
    "# trying new methode "
   ]
  },
  {
   "cell_type": "code",
   "execution_count": 10,
   "metadata": {},
   "outputs": [
    {
     "name": "stdout",
     "output_type": "stream",
     "text": [
      "(653.2099999999999, [0, 6, 4, 23, 10, 2, 1, 9, 25, 20, 18, 19, 11, 8, 7, 3, 5, 22, 24, 17, 16, 13, 26, 15, 12, 14, 21])\n"
     ]
    }
   ],
   "source": [
    "import tsp\n",
    "mat = m # Distance Matrix\n",
    "r = range(len(mat))\n",
    "# Dictionary of distance\n",
    "dist = {(i, j): mat[i][j] for i in r for j in r}\n",
    "print(tsp.tsp(r, dist))"
   ]
  },
  {
   "cell_type": "markdown",
   "metadata": {},
   "source": [
    "### unfortunately this was our last hope because it is an algorithm already a mix of hamilton and A* STAR ; so this as far as we can go, but we will work the old way  a pen and a paper "
   ]
  },
  {
   "cell_type": "markdown",
   "metadata": {},
   "source": [
    "# --------------------------------------------------------\n",
    "# after some work we've got this path "
   ]
  },
  {
   "cell_type": "code",
   "execution_count": null,
   "metadata": {},
   "outputs": [],
   "source": [
    "ham_star_path=['Utica',\n",
    "               'Bulla_Regia_-_Site_Archéologique',\n",
    "               'Chemtou',\n",
    "               'Dougga',\n",
    "               'Haydrah',\n",
    "               'Kasserine_ruin',\n",
    "               'Subaytilah',\n",
    "               'gigthis',\n",
    "               'El_Jem',\n",
    "               'ENFIDAVILLE_WAR_CEMETERY',\n",
    "               'Kerkouane','Tubernuc',\n",
    "               'Zaghouan_Aqueduct',\n",
    "               'Bardo_National_Museum',\n",
    "               'Medina_of_Tunis',\n",
    "               'Salammbo_Tophet',\n",
    "               'Les_Ports_Puniques_de_Carthage',\n",
    "               'Quartier_Magon',\n",
    "               'Antonine_Baths',\n",
    "               'Kobba_Bent_el_Rey',\n",
    "               'Odeon_Theater',\n",
    "               'Basilica_Fausti',\n",
    "               'North_Africa_American_Cemetery_and_Memorial',\n",
    "               'Cisterns_of_La_Malga',\n",
    "               'Roman_Amphitheatre',\n",
    "               'Byrsa_Hill',\n",
    "               'Carthage_Museum']"
   ]
  },
  {
   "cell_type": "markdown",
   "metadata": {},
   "source": [
    "# linking the path on the map"
   ]
  },
  {
   "cell_type": "code",
   "execution_count": null,
   "metadata": {},
   "outputs": [],
   "source": [
    "import gmplot"
   ]
  },
  {
   "cell_type": "code",
   "execution_count": 19,
   "metadata": {},
   "outputs": [],
   "source": [
    "gmap1 = gmplot.GoogleMapPlotter(33.8439408, 9.400138, 7 )"
   ]
  },
  {
   "cell_type": "code",
   "execution_count": 20,
   "metadata": {},
   "outputs": [],
   "source": [
    " \n",
    "latitude_list = [37.01646735,36.5596925,36.489542,36.42329105,35.56696765,35.17026285,35.2315127,33.5398386,35.29519525,36.1338883,36.9604541,36.532864,36.6382335,36.8094589,36.7985292,36.8412563,\n",
    "                 36.845036,36.8512445,36.8542306,36.8578685,36.8589587,36.8614744,36.8654349,36.859336,36.8558694,36.8524951,36.8532268] \n",
    "longitude_list = [9.94475065,8.7541243,8.5769602,9.21870005,8.4438944,8.82476795,9.12433965,10.67358255,10.7063484,10.3742362,11.0799265,10.4567689,10.1295877,10.1340362,10.16922265\n",
    "                  ,10.3228645,10.3254533,10.3313709,10.3349601,10.3317216,10.3306693,10.3309952,10.3297122,10.3187431,10.3151931,10.3227768,10.3243991] \n"
   ]
  },
  {
   "cell_type": "code",
   "execution_count": 21,
   "metadata": {},
   "outputs": [],
   "source": [
    "gmap1.scatter( latitude_list, longitude_list, '# FF0000', size = 40, marker = False )"
   ]
  },
  {
   "cell_type": "code",
   "execution_count": 22,
   "metadata": {},
   "outputs": [],
   "source": [
    "gmap1.plot(latitude_list, longitude_list,'cornflowerblue', edge_width = 2.5)"
   ]
  },
  {
   "cell_type": "code",
   "execution_count": 23,
   "metadata": {},
   "outputs": [],
   "source": [
    "gmap1.draw(r\"C:\\Users\\asus\\Desktop\\map111.html\" ) "
   ]
  },
  {
   "cell_type": "markdown",
   "metadata": {},
   "source": [
    "##### using distance generator in google "
   ]
  },
  {
   "cell_type": "code",
   "execution_count": 25,
   "metadata": {},
   "outputs": [],
   "source": [
    "from PIL import Image\n",
    "image = Image.open(r'C:\\Users\\asus\\Desktop\\distance.png')\n",
    "image.show() \n",
    "# or see the image named 'distance'"
   ]
  }
 ],
 "metadata": {
  "kernelspec": {
   "display_name": "Python 3",
   "language": "python",
   "name": "python3"
  },
  "language_info": {
   "codemirror_mode": {
    "name": "ipython",
    "version": 3
   },
   "file_extension": ".py",
   "mimetype": "text/x-python",
   "name": "python",
   "nbconvert_exporter": "python",
   "pygments_lexer": "ipython3",
   "version": "3.7.3"
  }
 },
 "nbformat": 4,
 "nbformat_minor": 4
}
